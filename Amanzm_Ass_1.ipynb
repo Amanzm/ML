{
 "cells": [
  {
   "cell_type": "code",
   "execution_count": 9,
   "metadata": {},
   "outputs": [],
   "source": [
    "import math\n",
    "import numpy as np"
   ]
  },
  {
   "cell_type": "markdown",
   "metadata": {},
   "source": [
    "# Question - 1"
   ]
  },
  {
   "cell_type": "code",
   "execution_count": 10,
   "metadata": {},
   "outputs": [],
   "source": [
    "A=np.matrix([[1,2,3],[2,1,4]])\n",
    "B=np.matrix([[1,0],[2,1],[3,2]])\n",
    "C=np.matrix([[3,-1,3],[4,1,5],[2,1,3]])\n",
    "D=np.matrix([[2,-4,5],[0,1,4],[3,2,1]])\n",
    "E=np.matrix([[3,-2],[2,4]])\n"
   ]
  },
  {
   "cell_type": "code",
   "execution_count": 11,
   "metadata": {},
   "outputs": [
    {
     "name": "stdout",
     "output_type": "stream",
     "text": [
      "[[2 4 6]\n",
      " [4 2 8]] \n",
      "\n",
      "[[ 2 -2]\n",
      " [ 4  2]\n",
      " [ 6  2]] \n",
      "\n",
      "[[ -7  -6]\n",
      " [ -8   0]\n",
      " [-17 -10]] \n",
      "\n"
     ]
    }
   ],
   "source": [
    "a=2*A\n",
    "print(a,\"\\n\")\n",
    "\n",
    "#b=(A-B).T\n",
    "\n",
    "c=((3*B).T - A).T\n",
    "print(c,\"\\n\")\n",
    "\n",
    "d=((-A).T)*E\n",
    "print(d,\"\\n\")\n",
    "\n",
    "#e= (C + 2*(D.T) + E).T\n"
   ]
  },
  {
   "cell_type": "markdown",
   "metadata": {},
   "source": [
    "# Question - 2"
   ]
  },
  {
   "cell_type": "code",
   "execution_count": 12,
   "metadata": {},
   "outputs": [
    {
     "name": "stdout",
     "output_type": "stream",
     "text": [
      "[[-10  15]\n",
      " [  0   5]]\n",
      "[[-1  6]\n",
      " [ 9 -4]]\n",
      "[[False False]\n",
      " [False False]]\n"
     ]
    }
   ],
   "source": [
    "A=np.matrix([[1,4],[3,2]])\n",
    "B=np.matrix([[2,-1],[-3,4]])\n",
    "print(A*B)\n",
    "print(B*A)\n",
    "\n",
    "print( A*B == B*A )\n",
    "\n",
    "\n"
   ]
  },
  {
   "cell_type": "markdown",
   "metadata": {},
   "source": [
    "# Question - 3\n"
   ]
  },
  {
   "cell_type": "code",
   "execution_count": 13,
   "metadata": {},
   "outputs": [
    {
     "name": "stdout",
     "output_type": "stream",
     "text": [
      "V1:  [ 1  0 -1] \n",
      " V2:  [1.   1.41 1.  ] \n",
      " V3:  [ 1.   -1.41  1.  ]\n"
     ]
    }
   ],
   "source": [
    "V1=np.array([1,0,-1])\n",
    "V2=np.array([1,round(math.sqrt(2),2),1])\n",
    "V3=np.array([1,-round(math.sqrt(2),2),1])\n",
    "\n",
    "print(\"V1: \",V1,\"\\n\", \"V2: \",V2,\"\\n\",\"V3: \",V3)"
   ]
  },
  {
   "cell_type": "code",
   "execution_count": 14,
   "metadata": {},
   "outputs": [
    {
     "name": "stdout",
     "output_type": "stream",
     "text": [
      "V1 dot V2 is  0.0\n",
      "V2 dot V3 is  0.0\n",
      "V1 dot V3 is  0.0\n",
      "since V1•V2 = V1•V3 = V2•V3 = 0 , They form Orthogonal Set \n",
      "For Orthonormal Sets each of V1, V2, V3 should be unit vector which we can do by normalizing them \n",
      "V1:  [ 0.70710678  0.         -0.70710678] \n",
      " V2:  [0.50074541 0.70605103 0.50074541] \n",
      " V3:  [ 0.50074541 -0.70605103  0.50074541]\n"
     ]
    }
   ],
   "source": [
    "print(f'V1 dot V2 is ', np.dot(V1,V2))\n",
    "print(f'V2 dot V3 is ', round(np.dot(V2,V3),1))\n",
    "print(f'V1 dot V3 is ', np.dot(V1,V3))\n",
    "\n",
    "\n",
    "print(\"since V1•V2 = V1•V3 = V2•V3 = 0 , They form Orthogonal Set \") \n",
    "print(\"For Orthonormal Sets each of V1, V2, V3 should be unit vector which we can do by normalizing them \")\n",
    "\n",
    "V1 = V1 / np.linalg.norm(V1)\n",
    "V2 = V2 / np.linalg.norm(V2)\n",
    "V3 = V3 / np.linalg.norm(V3)\n",
    "\n",
    "print(\"V1: \",V1,\"\\n\", \"V2: \",V2, \"\\n\",\"V3: \",V3)"
   ]
  },
  {
   "cell_type": "markdown",
   "metadata": {},
   "source": [
    "# Question - 4\n"
   ]
  },
  {
   "cell_type": "code",
   "execution_count": 15,
   "metadata": {},
   "outputs": [
    {
     "name": "stdout",
     "output_type": "stream",
     "text": [
      "Given X belongs to m dimension & \n",
      " Y belongs to n dimension\n",
      "[[1]\n",
      " [3]\n",
      " [1]\n",
      " [1]] \n",
      "\n",
      "[[4]\n",
      " [1]\n",
      " [3]\n",
      " [4]\n",
      " [2]] \n",
      "\n",
      "[[ 4  1  3  4  2]\n",
      " [12  3  9 12  6]\n",
      " [ 4  1  3  4  2]\n",
      " [ 4  1  3  4  2]] \n",
      "\n",
      "Rank of Resultant Matrix : 1\n"
     ]
    }
   ],
   "source": [
    "print(\"Given X belongs to m dimension & \\n Y belongs to n dimension\")\n",
    "\n",
    "np.random.seed(2024) \n",
    "\n",
    "X = np.random.randint(low=1, high=5, size=(4, 1))\n",
    "Y = np.random.randint(1, 5, (5, 1))\n",
    "print(X,\"\\n\")\n",
    "print(Y,\"\\n\")\n",
    "res=X*((Y).T)\n",
    "print(res,\"\\n\")\n",
    "\n",
    "print(\"Rank of Resultant Matrix :\",np.linalg.matrix_rank(res))\n",
    "\n"
   ]
  },
  {
   "cell_type": "markdown",
   "metadata": {},
   "source": [
    "# Question - 5\n"
   ]
  },
  {
   "cell_type": "code",
   "execution_count": 20,
   "metadata": {},
   "outputs": [
    {
     "name": "stdout",
     "output_type": "stream",
     "text": [
      "It is equal.\n",
      "Result:  64\n"
     ]
    }
   ],
   "source": [
    "import numpy as np\n",
    "a = np.array([1,2,3,4])\n",
    "b = np.array([4,5,6,8])\n",
    "d = np.dot(a,b)\n",
    "n = 4\n",
    "e = 0\n",
    "for i in range(n):\n",
    "    e = np.dot(a[i],b[i]) + e\n",
    "if(np.array_equal(d,e)):\n",
    "    print(\"It is equal.\")\n",
    "else:\n",
    "    print(\"It is not equal.\")\n",
    "print(\"Result: \",e)\n"
   ]
  },
  {
   "cell_type": "markdown",
   "metadata": {},
   "source": [
    "# Question - 6\n"
   ]
  },
  {
   "cell_type": "code",
   "execution_count": 19,
   "metadata": {},
   "outputs": [
    {
     "name": "stdout",
     "output_type": "stream",
     "text": [
      "Xt * X is Symmetric\n",
      "All Eigen_Values are greater or equal to 0 hence it is postive semi definite.\n"
     ]
    }
   ],
   "source": [
    "X = np.random.randint(low=1, high=5, size=(5, 5))\n",
    "X_T = X.T\n",
    "c = X_T * X\n",
    "\n",
    "# symmetric or not \n",
    "if(c.all() == (c.T).all()):\n",
    "    print(\"Xt * X is Symmetric\")\n",
    "else :\n",
    "    print(\"Xt * X is NOT Symmetric\")\n",
    "\n",
    "Eig_Val, Eig_Vect = np.linalg.eig(X)\n",
    "if(Eig_Val.all()>=0):\n",
    "    print(\"All Eigen_Values are greater or equal to 0 hence it is postive semi definite.\")\n",
    "else: \n",
    "    print(\"It is not.\")"
   ]
  },
  {
   "cell_type": "markdown",
   "metadata": {},
   "source": [
    "# Question - 7"
   ]
  },
  {
   "cell_type": "code",
   "execution_count": null,
   "metadata": {},
   "outputs": [
    {
     "name": "stdout",
     "output_type": "stream",
     "text": [
      "-2*y*exp(-2*x*y) + exp(x) - 2/x \n",
      "\n",
      "-2*x*exp(-2*x*y) + exp(y) - 1/y\n"
     ]
    }
   ],
   "source": [
    "from sympy import symbols, exp, log, diff\n",
    "\n",
    "x, y = symbols('x y')\n",
    "g = exp(x) + exp(y) + exp(-2*x*y) - log(-x**2*y)\n",
    "g_x = diff(g, x)\n",
    "g_y = diff(g, y)\n",
    "print(g_x,\"\\n\")\n",
    "print(g_y)"
   ]
  },
  {
   "cell_type": "markdown",
   "metadata": {},
   "source": [
    "# Question - 8"
   ]
  },
  {
   "cell_type": "code",
   "execution_count": null,
   "metadata": {},
   "outputs": [
    {
     "name": "stdout",
     "output_type": "stream",
     "text": [
      "[7.606 0.394 0.   ]  \n",
      "\n",
      "[[-0.49079864 -0.65252078 -0.57735027]\n",
      " [-0.31970025  0.75130448 -0.57735027]\n",
      " [-0.81049889  0.0987837   0.57735027]]  \n",
      "\n",
      " Determinant of Matrix is  0  \n",
      "\n",
      " Rank of Matrix is  2  \n",
      "\n",
      "Is matrix positive definite: NO\n",
      "Is matrix positive semi definite: YES\n",
      "Diagonal Matrix of A is : \n",
      "\n",
      " Λ =\n",
      "  [[7.61 0.   0.  ]\n",
      " [0.   0.39 0.  ]\n",
      " [0.   0.   0.  ]]\n",
      "\n",
      "\n",
      "\n",
      "\n",
      "\n",
      "U Matrix of A is : \n",
      "\n",
      " U =\n",
      "  [[-0.49 -0.65 -0.58]\n",
      " [-0.32  0.75 -0.58]\n",
      " [-0.81  0.1   0.58]]\n",
      "\n",
      "\n",
      "\n",
      "\n",
      "\n",
      "U^ -1 Matrix of A is : \n",
      "\n",
      " U^-1  =\n",
      "  [[-0.49232551 -0.31856357 -0.81088908]\n",
      " [-0.65450333  0.75296843  0.0984651 ]\n",
      " [-0.57471264 -0.57471264  0.57471264]]\n",
      "\n",
      "\n",
      "\n",
      "\n",
      "\n",
      "Eigen vector corresponding to 7.6055512754639905 is \n",
      " [[-0.49079864]\n",
      " [-0.31970025]\n",
      " [-0.81049889]] \n",
      "\n",
      "Eigen vector corresponding to 0.39444872453601054 is \n",
      " [[-0.65252078]\n",
      " [ 0.75130448]\n",
      " [ 0.0987837 ]] \n",
      "\n",
      "Eigen vector corresponding to 0.39444872453601054 is \n",
      " [[-0.57735027]\n",
      " [-0.57735027]\n",
      " [ 0.57735027]] \n",
      "\n"
     ]
    }
   ],
   "source": [
    "A =np.matrix(\"2 1 3; 1 1 2; 3 2 5 \")\n",
    "\n",
    "w,v = np.linalg.eig(A)\n",
    "\n",
    "print(np.round(w,3),\" \\n\")\n",
    "\n",
    "print(v,\" \\n\")\n",
    "\n",
    "\n",
    "print (\" Determinant of Matrix is \",round(np.linalg.det(A)),\" \\n\")\n",
    "print (\" Rank of Matrix is \",round(np.linalg.matrix_rank(A)),\" \\n\")\n",
    "\n",
    "\n",
    "print(\"Is matrix positive definite: YES\") if (np.all(np.round(np.linalg.eigvals(A),2) > 0)) else print(\"Is matrix positive definite: NO\")\n",
    "print(\"Is matrix positive semi definite: YES\") if (np.all(np.round(np.linalg.eigvals(A),2) >= 0)) else print(\"Is matrix positive  semi definite: NO\")\n",
    "\n",
    "\n",
    "Λ = np.diag(np.round(w,2))\n",
    "print(\"Diagonal Matrix of A is : \\n\\n Λ =\\n \",Λ)\n",
    "print(\"\\n\\n\\n\\n\")\n",
    "\n",
    "U = np.round(v,2)\n",
    "print(\"U Matrix of A is : \\n\\n U =\\n \",U)\n",
    "print(\"\\n\\n\\n\\n\")\n",
    "\n",
    "Uinv = np.linalg.inv(U)\n",
    "print(f\"U^ -1 Matrix of A is : \\n\\n U^-1  =\\n \",Uinv)\n",
    "\n",
    "print(\"\\n\\n\\n\\n\")\n",
    "\n",
    "print( f\"Eigen vector corresponding to {w[0]} is \\n {v[:,0]} \\n\" )\n",
    "print( f\"Eigen vector corresponding to {w[1]} is \\n {v[:,1]} \\n\" )\n",
    "print( f\"Eigen vector corresponding to {w[1]} is \\n {v[:,2]} \\n\" )\n",
    "\n",
    "\n"
   ]
  }
 ],
 "metadata": {
  "kernelspec": {
   "display_name": "Python 3",
   "language": "python",
   "name": "python3"
  },
  "language_info": {
   "codemirror_mode": {
    "name": "ipython",
    "version": 3
   },
   "file_extension": ".py",
   "mimetype": "text/x-python",
   "name": "python",
   "nbconvert_exporter": "python",
   "pygments_lexer": "ipython3",
   "version": "3.12.1"
  }
 },
 "nbformat": 4,
 "nbformat_minor": 2
}
